{
 "cells": [
  {
   "cell_type": "markdown",
   "metadata": {
    "slideshow": {
     "slide_type": "-"
    }
   },
   "source": [
    "This is a temporary notebook"
   ]
  },
  {
   "cell_type": "code",
   "execution_count": 1,
   "metadata": {},
   "outputs": [],
   "source": [
    "import pandas as pd"
   ]
  },
  {
   "cell_type": "code",
   "execution_count": 2,
   "metadata": {},
   "outputs": [],
   "source": [
    "# The below code gives a huge error due to encoding issue\n",
    "# kenta and I have struggled with this for at least an hour...\n",
    "# df = pd.read_csv(\"forpractice.csv\")"
   ]
  },
  {
   "cell_type": "markdown",
   "metadata": {},
   "source": [
    "Here we get a huge error due to unicode-decoding error without specifying a decoder in read_csv. So we need to figure out at 0x93 position which decoder we need."
   ]
  },
  {
   "cell_type": "code",
   "execution_count": 3,
   "metadata": {},
   "outputs": [],
   "source": [
    "df = pd.read_csv(\"../data/15kenoku20180213.csv\", encoding='cp932', skiprows= [0,1,2])"
   ]
  },
  {
   "cell_type": "code",
   "execution_count": 4,
   "metadata": {},
   "outputs": [],
   "source": [
    "name = pd.read_csv(\"../data/15kenoku20180213.csv\", encoding=\"cp932\", nrows=1, header=None)"
   ]
  },
  {
   "cell_type": "code",
   "execution_count": 5,
   "metadata": {},
   "outputs": [
    {
     "data": {
      "text/plain": [
       "'田中敬一郎'"
      ]
     },
     "execution_count": 5,
     "metadata": {},
     "output_type": "execute_result"
    }
   ],
   "source": [
    "name.iat[0,0] # this is the name of the individual"
   ]
  },
  {
   "cell_type": "code",
   "execution_count": 6,
   "metadata": {},
   "outputs": [
    {
     "data": {
      "text/html": [
       "<div>\n",
       "<style>\n",
       "    .dataframe thead tr:only-child th {\n",
       "        text-align: right;\n",
       "    }\n",
       "\n",
       "    .dataframe thead th {\n",
       "        text-align: left;\n",
       "    }\n",
       "\n",
       "    .dataframe tbody tr th {\n",
       "        vertical-align: top;\n",
       "    }\n",
       "</style>\n",
       "<table border=\"1\" class=\"dataframe\">\n",
       "  <thead>\n",
       "    <tr style=\"text-align: right;\">\n",
       "      <th></th>\n",
       "      <th>時刻</th>\n",
       "      <th>活動強度</th>\n",
       "      <th>運動種別</th>\n",
       "    </tr>\n",
       "  </thead>\n",
       "  <tbody>\n",
       "    <tr>\n",
       "      <th>0</th>\n",
       "      <td>0:00:00</td>\n",
       "      <td>0.0</td>\n",
       "      <td>計測なし</td>\n",
       "    </tr>\n",
       "    <tr>\n",
       "      <th>1</th>\n",
       "      <td>0:01:00</td>\n",
       "      <td>0.0</td>\n",
       "      <td>計測なし</td>\n",
       "    </tr>\n",
       "    <tr>\n",
       "      <th>2</th>\n",
       "      <td>0:02:00</td>\n",
       "      <td>0.0</td>\n",
       "      <td>計測なし</td>\n",
       "    </tr>\n",
       "    <tr>\n",
       "      <th>3</th>\n",
       "      <td>0:03:00</td>\n",
       "      <td>0.0</td>\n",
       "      <td>計測なし</td>\n",
       "    </tr>\n",
       "    <tr>\n",
       "      <th>4</th>\n",
       "      <td>0:04:00</td>\n",
       "      <td>0.0</td>\n",
       "      <td>計測なし</td>\n",
       "    </tr>\n",
       "  </tbody>\n",
       "</table>\n",
       "</div>"
      ],
      "text/plain": [
       "        時刻  活動強度  運動種別\n",
       "0  0:00:00   0.0  計測なし\n",
       "1  0:01:00   0.0  計測なし\n",
       "2  0:02:00   0.0  計測なし\n",
       "3  0:03:00   0.0  計測なし\n",
       "4  0:04:00   0.0  計測なし"
      ]
     },
     "execution_count": 6,
     "metadata": {},
     "output_type": "execute_result"
    }
   ],
   "source": [
    "df.head()"
   ]
  },
  {
   "cell_type": "markdown",
   "metadata": {},
   "source": [
    "It looks like we did a pretty good job. I don't really understand what the columns are saying so... we should probably change the column names."
   ]
  },
  {
   "cell_type": "code",
   "execution_count": 7,
   "metadata": {},
   "outputs": [],
   "source": [
    "df.columns = [\"Time\",\"Mets\",\"random\"]"
   ]
  },
  {
   "cell_type": "markdown",
   "metadata": {},
   "source": [
    "Let's also remove the 3rd column because we don't need it"
   ]
  },
  {
   "cell_type": "code",
   "execution_count": 8,
   "metadata": {},
   "outputs": [
    {
     "data": {
      "text/html": [
       "<div>\n",
       "<style>\n",
       "    .dataframe thead tr:only-child th {\n",
       "        text-align: right;\n",
       "    }\n",
       "\n",
       "    .dataframe thead th {\n",
       "        text-align: left;\n",
       "    }\n",
       "\n",
       "    .dataframe tbody tr th {\n",
       "        vertical-align: top;\n",
       "    }\n",
       "</style>\n",
       "<table border=\"1\" class=\"dataframe\">\n",
       "  <thead>\n",
       "    <tr style=\"text-align: right;\">\n",
       "      <th></th>\n",
       "      <th>Time</th>\n",
       "      <th>Mets</th>\n",
       "    </tr>\n",
       "  </thead>\n",
       "  <tbody>\n",
       "    <tr>\n",
       "      <th>0</th>\n",
       "      <td>0:00:00</td>\n",
       "      <td>0.0</td>\n",
       "    </tr>\n",
       "    <tr>\n",
       "      <th>1</th>\n",
       "      <td>0:01:00</td>\n",
       "      <td>0.0</td>\n",
       "    </tr>\n",
       "    <tr>\n",
       "      <th>2</th>\n",
       "      <td>0:02:00</td>\n",
       "      <td>0.0</td>\n",
       "    </tr>\n",
       "    <tr>\n",
       "      <th>3</th>\n",
       "      <td>0:03:00</td>\n",
       "      <td>0.0</td>\n",
       "    </tr>\n",
       "    <tr>\n",
       "      <th>4</th>\n",
       "      <td>0:04:00</td>\n",
       "      <td>0.0</td>\n",
       "    </tr>\n",
       "  </tbody>\n",
       "</table>\n",
       "</div>"
      ],
      "text/plain": [
       "      Time  Mets\n",
       "0  0:00:00   0.0\n",
       "1  0:01:00   0.0\n",
       "2  0:02:00   0.0\n",
       "3  0:03:00   0.0\n",
       "4  0:04:00   0.0"
      ]
     },
     "execution_count": 8,
     "metadata": {},
     "output_type": "execute_result"
    }
   ],
   "source": [
    "df.drop('random', axis=1, inplace=True)\n",
    "df.head()"
   ]
  },
  {
   "cell_type": "markdown",
   "metadata": {},
   "source": [
    "Later on, we need to merge in 7 days worth of data for each of the individuals. Meaning there will be 7 csv files for each individuals and there are 20 individuals. Technically there will be 140 csv files in the path. However, for now we need to focus on differentiating the time. Since the Time variable only has the `HH:MM:SS` information, we need to add it such that it is `YYYYMMDD HH:MM:SS`."
   ]
  },
  {
   "cell_type": "markdown",
   "metadata": {},
   "source": [
    "First load the filenames into a list"
   ]
  },
  {
   "cell_type": "code",
   "execution_count": 9,
   "metadata": {},
   "outputs": [
    {
     "data": {
      "text/plain": [
       "['../data/15ericdong20180213.csv',\n",
       " '../data/15ericdong20180212.csv',\n",
       " '../data/forpractice20180213.csv',\n",
       " '../data/forpractice20180212.csv',\n",
       " '../data/15kenoku20180211.csv',\n",
       " '../data/forpractice-Copy5.csv',\n",
       " '../data/15ericdong20180211.csv',\n",
       " '../data/forpractice.csv',\n",
       " '../data/forpractice-Copy4.csv',\n",
       " '../data/15ericdong20180210.csv',\n",
       " '../data/15kenoku20180213.csv',\n",
       " '../data/forpractice20180211.csv',\n",
       " '../data/forpractice20180210.csv',\n",
       " '../data/15kenoku20180210.csv',\n",
       " '../data/15kenoku20180212.csv']"
      ]
     },
     "execution_count": 9,
     "metadata": {},
     "output_type": "execute_result"
    }
   ],
   "source": [
    "import glob\n",
    "path = r'../data' # specify the path of the data files\n",
    "allFiles = glob.glob(path + '/*.csv') # this creates a list of all the files in the folder with /*.csv extension\n",
    "allFiles"
   ]
  },
  {
   "cell_type": "markdown",
   "metadata": {},
   "source": [
    "In this example case we have random files but the files we're interested in are those that start wit ha number then a persons name then the date (e.g. 15kenoku20180210.csv). We need to extractthe date from the filename."
   ]
  },
  {
   "cell_type": "code",
   "execution_count": 10,
   "metadata": {},
   "outputs": [
    {
     "data": {
      "text/plain": [
       "'20180213'"
      ]
     },
     "execution_count": 10,
     "metadata": {},
     "output_type": "execute_result"
    }
   ],
   "source": [
    "import re\n",
    "re.search('../data/\\d*'+'kenoku'+'(\\d+).csv', allFiles[10]).group(1)"
   ]
  },
  {
   "cell_type": "markdown",
   "metadata": {},
   "source": [
    "The above code uses regexp to extract the csv file from the 11th item in the list which is `'../data/15kenoku20180213.csv'`\n",
    "Now we need to append that data onto the Time column"
   ]
  },
  {
   "cell_type": "code",
   "execution_count": 11,
   "metadata": {},
   "outputs": [
    {
     "data": {
      "text/plain": [
       "0    20180213 0:00:00\n",
       "1    20180213 0:01:00\n",
       "2    20180213 0:02:00\n",
       "3    20180213 0:03:00\n",
       "4    20180213 0:04:00\n",
       "dtype: object"
      ]
     },
     "execution_count": 11,
     "metadata": {},
     "output_type": "execute_result"
    }
   ],
   "source": [
    "(pd.Series([re.search('../data/\\d*'+'kenoku'+'(\\d+).csv', allFiles[10]).group(1)]*df.shape[0]) + \" \" + df.Time).head()"
   ]
  },
  {
   "cell_type": "code",
   "execution_count": 12,
   "metadata": {},
   "outputs": [],
   "source": [
    "df[\"Time\"] = (pd.Series([re.search('../data/\\d*'+'kenoku'+'(\\d+).csv', allFiles[10]).group(1)]*df.shape[0]) + \" \" + df.Time)"
   ]
  },
  {
   "cell_type": "code",
   "execution_count": 13,
   "metadata": {},
   "outputs": [
    {
     "data": {
      "text/html": [
       "<div>\n",
       "<style>\n",
       "    .dataframe thead tr:only-child th {\n",
       "        text-align: right;\n",
       "    }\n",
       "\n",
       "    .dataframe thead th {\n",
       "        text-align: left;\n",
       "    }\n",
       "\n",
       "    .dataframe tbody tr th {\n",
       "        vertical-align: top;\n",
       "    }\n",
       "</style>\n",
       "<table border=\"1\" class=\"dataframe\">\n",
       "  <thead>\n",
       "    <tr style=\"text-align: right;\">\n",
       "      <th></th>\n",
       "      <th>Time</th>\n",
       "      <th>Mets</th>\n",
       "    </tr>\n",
       "  </thead>\n",
       "  <tbody>\n",
       "    <tr>\n",
       "      <th>0</th>\n",
       "      <td>20180213 0:00:00</td>\n",
       "      <td>0.0</td>\n",
       "    </tr>\n",
       "    <tr>\n",
       "      <th>1</th>\n",
       "      <td>20180213 0:01:00</td>\n",
       "      <td>0.0</td>\n",
       "    </tr>\n",
       "    <tr>\n",
       "      <th>2</th>\n",
       "      <td>20180213 0:02:00</td>\n",
       "      <td>0.0</td>\n",
       "    </tr>\n",
       "    <tr>\n",
       "      <th>3</th>\n",
       "      <td>20180213 0:03:00</td>\n",
       "      <td>0.0</td>\n",
       "    </tr>\n",
       "    <tr>\n",
       "      <th>4</th>\n",
       "      <td>20180213 0:04:00</td>\n",
       "      <td>0.0</td>\n",
       "    </tr>\n",
       "  </tbody>\n",
       "</table>\n",
       "</div>"
      ],
      "text/plain": [
       "               Time  Mets\n",
       "0  20180213 0:00:00   0.0\n",
       "1  20180213 0:01:00   0.0\n",
       "2  20180213 0:02:00   0.0\n",
       "3  20180213 0:03:00   0.0\n",
       "4  20180213 0:04:00   0.0"
      ]
     },
     "execution_count": 13,
     "metadata": {},
     "output_type": "execute_result"
    }
   ],
   "source": [
    "df.head()"
   ]
  },
  {
   "cell_type": "markdown",
   "metadata": {},
   "source": [
    "Let's convert the time column to datetime type"
   ]
  },
  {
   "cell_type": "markdown",
   "metadata": {},
   "source": [
    "First create a new column that will convert the charactercolumn `Time` into a timestamp column"
   ]
  },
  {
   "cell_type": "code",
   "execution_count": 14,
   "metadata": {},
   "outputs": [],
   "source": [
    "df['Time'] =  pd.to_datetime(df['Time'], format=\"%Y%m%d %H:%M:%S\")"
   ]
  },
  {
   "cell_type": "code",
   "execution_count": 15,
   "metadata": {},
   "outputs": [
    {
     "data": {
      "text/html": [
       "<div>\n",
       "<style>\n",
       "    .dataframe thead tr:only-child th {\n",
       "        text-align: right;\n",
       "    }\n",
       "\n",
       "    .dataframe thead th {\n",
       "        text-align: left;\n",
       "    }\n",
       "\n",
       "    .dataframe tbody tr th {\n",
       "        vertical-align: top;\n",
       "    }\n",
       "</style>\n",
       "<table border=\"1\" class=\"dataframe\">\n",
       "  <thead>\n",
       "    <tr style=\"text-align: right;\">\n",
       "      <th></th>\n",
       "      <th>Time</th>\n",
       "      <th>Mets</th>\n",
       "    </tr>\n",
       "  </thead>\n",
       "  <tbody>\n",
       "    <tr>\n",
       "      <th>0</th>\n",
       "      <td>2018-02-13 00:00:00</td>\n",
       "      <td>0.0</td>\n",
       "    </tr>\n",
       "    <tr>\n",
       "      <th>1</th>\n",
       "      <td>2018-02-13 00:01:00</td>\n",
       "      <td>0.0</td>\n",
       "    </tr>\n",
       "    <tr>\n",
       "      <th>2</th>\n",
       "      <td>2018-02-13 00:02:00</td>\n",
       "      <td>0.0</td>\n",
       "    </tr>\n",
       "    <tr>\n",
       "      <th>3</th>\n",
       "      <td>2018-02-13 00:03:00</td>\n",
       "      <td>0.0</td>\n",
       "    </tr>\n",
       "    <tr>\n",
       "      <th>4</th>\n",
       "      <td>2018-02-13 00:04:00</td>\n",
       "      <td>0.0</td>\n",
       "    </tr>\n",
       "  </tbody>\n",
       "</table>\n",
       "</div>"
      ],
      "text/plain": [
       "                 Time  Mets\n",
       "0 2018-02-13 00:00:00   0.0\n",
       "1 2018-02-13 00:01:00   0.0\n",
       "2 2018-02-13 00:02:00   0.0\n",
       "3 2018-02-13 00:03:00   0.0\n",
       "4 2018-02-13 00:04:00   0.0"
      ]
     },
     "execution_count": 15,
     "metadata": {},
     "output_type": "execute_result"
    }
   ],
   "source": [
    "df.head()"
   ]
  },
  {
   "cell_type": "markdown",
   "metadata": {},
   "source": [
    "Now need to create a column that will subtract all time from the beginning of the day"
   ]
  },
  {
   "cell_type": "code",
   "execution_count": 16,
   "metadata": {},
   "outputs": [
    {
     "data": {
      "text/plain": [
       "0    0.0\n",
       "1    1.0\n",
       "2    2.0\n",
       "3    3.0\n",
       "4    4.0\n",
       "dtype: float64"
      ]
     },
     "execution_count": 16,
     "metadata": {},
     "output_type": "execute_result"
    }
   ],
   "source": [
    "(df.Time - pd.DataFrame({\"FTime\": [df.Time.tolist()[0]]*df.shape[0]}).FTime).astype('timedelta64[m]').head()"
   ]
  },
  {
   "cell_type": "code",
   "execution_count": 17,
   "metadata": {},
   "outputs": [],
   "source": [
    "df['Timedif'] = (df.Time - pd.DataFrame({\"FTime\": [df.Time.tolist()[0]]*df.shape[0]}).FTime).astype('timedelta64[m]')"
   ]
  },
  {
   "cell_type": "code",
   "execution_count": 18,
   "metadata": {},
   "outputs": [
    {
     "data": {
      "text/html": [
       "<div>\n",
       "<style>\n",
       "    .dataframe thead tr:only-child th {\n",
       "        text-align: right;\n",
       "    }\n",
       "\n",
       "    .dataframe thead th {\n",
       "        text-align: left;\n",
       "    }\n",
       "\n",
       "    .dataframe tbody tr th {\n",
       "        vertical-align: top;\n",
       "    }\n",
       "</style>\n",
       "<table border=\"1\" class=\"dataframe\">\n",
       "  <thead>\n",
       "    <tr style=\"text-align: right;\">\n",
       "      <th></th>\n",
       "      <th>Time</th>\n",
       "      <th>Mets</th>\n",
       "      <th>Timedif</th>\n",
       "    </tr>\n",
       "  </thead>\n",
       "  <tbody>\n",
       "    <tr>\n",
       "      <th>1435</th>\n",
       "      <td>2018-02-13 23:55:00</td>\n",
       "      <td>0.0</td>\n",
       "      <td>1435.0</td>\n",
       "    </tr>\n",
       "    <tr>\n",
       "      <th>1436</th>\n",
       "      <td>2018-02-13 23:56:00</td>\n",
       "      <td>0.0</td>\n",
       "      <td>1436.0</td>\n",
       "    </tr>\n",
       "    <tr>\n",
       "      <th>1437</th>\n",
       "      <td>2018-02-13 23:57:00</td>\n",
       "      <td>0.0</td>\n",
       "      <td>1437.0</td>\n",
       "    </tr>\n",
       "    <tr>\n",
       "      <th>1438</th>\n",
       "      <td>2018-02-13 23:58:00</td>\n",
       "      <td>0.0</td>\n",
       "      <td>1438.0</td>\n",
       "    </tr>\n",
       "    <tr>\n",
       "      <th>1439</th>\n",
       "      <td>2018-02-13 23:59:00</td>\n",
       "      <td>0.0</td>\n",
       "      <td>1439.0</td>\n",
       "    </tr>\n",
       "  </tbody>\n",
       "</table>\n",
       "</div>"
      ],
      "text/plain": [
       "                    Time  Mets  Timedif\n",
       "1435 2018-02-13 23:55:00   0.0   1435.0\n",
       "1436 2018-02-13 23:56:00   0.0   1436.0\n",
       "1437 2018-02-13 23:57:00   0.0   1437.0\n",
       "1438 2018-02-13 23:58:00   0.0   1438.0\n",
       "1439 2018-02-13 23:59:00   0.0   1439.0"
      ]
     },
     "execution_count": 18,
     "metadata": {},
     "output_type": "execute_result"
    }
   ],
   "source": [
    "df.tail()"
   ]
  },
  {
   "cell_type": "markdown",
   "metadata": {},
   "source": [
    "Finally we have a column that has minutes from the beginning to the end"
   ]
  },
  {
   "cell_type": "markdown",
   "metadata": {},
   "source": [
    "So we need to find the count of individuals that have the `Mets` column >= 3. We need to determine if the count is > 150 (after aggregating all the 7 days)"
   ]
  },
  {
   "cell_type": "code",
   "execution_count": 19,
   "metadata": {},
   "outputs": [
    {
     "data": {
      "text/plain": [
       "8"
      ]
     },
     "execution_count": 19,
     "metadata": {},
     "output_type": "execute_result"
    }
   ],
   "source": [
    "df.loc[df.Mets >= 3].Mets.count()"
   ]
  },
  {
   "cell_type": "code",
   "execution_count": 20,
   "metadata": {},
   "outputs": [
    {
     "data": {
      "text/plain": [
       "215"
      ]
     },
     "execution_count": 20,
     "metadata": {},
     "output_type": "execute_result"
    }
   ],
   "source": [
    "df.loc[(df['Mets']>= 1.6) & (df['Mets'] < 3)].Mets.count() #LIPA"
   ]
  },
  {
   "cell_type": "code",
   "execution_count": 21,
   "metadata": {},
   "outputs": [
    {
     "data": {
      "text/plain": [
       "1217"
      ]
     },
     "execution_count": 21,
     "metadata": {},
     "output_type": "execute_result"
    }
   ],
   "source": [
    "df.loc[(df['Mets'] <= 1.5)].Mets.count() #Sedentary 1217"
   ]
  },
  {
   "cell_type": "markdown",
   "metadata": {},
   "source": [
    "Now we need to add Short-bout Long-bout MVPA where SB is 1 ~ 9 mins MVPA and LB is >= 10 mins MVPA. We need to sum the count of the Mets."
   ]
  },
  {
   "cell_type": "code",
   "execution_count": 22,
   "metadata": {},
   "outputs": [
    {
     "data": {
      "text/plain": [
       "8"
      ]
     },
     "execution_count": 22,
     "metadata": {},
     "output_type": "execute_result"
    }
   ],
   "source": [
    "df.loc[df.Mets >= 3].shape[0]"
   ]
  },
  {
   "cell_type": "markdown",
   "metadata": {},
   "source": [
    "The person above has no consecutive MVPA thus would be considered to have 8 mins of SB MVPA."
   ]
  },
  {
   "cell_type": "code",
   "execution_count": 23,
   "metadata": {},
   "outputs": [
    {
     "data": {
      "text/html": [
       "<div>\n",
       "<style>\n",
       "    .dataframe thead tr:only-child th {\n",
       "        text-align: right;\n",
       "    }\n",
       "\n",
       "    .dataframe thead th {\n",
       "        text-align: left;\n",
       "    }\n",
       "\n",
       "    .dataframe tbody tr th {\n",
       "        vertical-align: top;\n",
       "    }\n",
       "</style>\n",
       "<table border=\"1\" class=\"dataframe\">\n",
       "  <thead>\n",
       "    <tr style=\"text-align: right;\">\n",
       "      <th></th>\n",
       "      <th>Time</th>\n",
       "      <th>Mets</th>\n",
       "      <th>Timedif</th>\n",
       "    </tr>\n",
       "  </thead>\n",
       "  <tbody>\n",
       "    <tr>\n",
       "      <th>527</th>\n",
       "      <td>2018-02-13 08:47:00</td>\n",
       "      <td>3.1</td>\n",
       "      <td>527.0</td>\n",
       "    </tr>\n",
       "    <tr>\n",
       "      <th>568</th>\n",
       "      <td>2018-02-13 09:28:00</td>\n",
       "      <td>3.1</td>\n",
       "      <td>568.0</td>\n",
       "    </tr>\n",
       "    <tr>\n",
       "      <th>691</th>\n",
       "      <td>2018-02-13 11:31:00</td>\n",
       "      <td>3.1</td>\n",
       "      <td>691.0</td>\n",
       "    </tr>\n",
       "    <tr>\n",
       "      <th>835</th>\n",
       "      <td>2018-02-13 13:55:00</td>\n",
       "      <td>3.0</td>\n",
       "      <td>835.0</td>\n",
       "    </tr>\n",
       "    <tr>\n",
       "      <th>838</th>\n",
       "      <td>2018-02-13 13:58:00</td>\n",
       "      <td>3.0</td>\n",
       "      <td>838.0</td>\n",
       "    </tr>\n",
       "    <tr>\n",
       "      <th>845</th>\n",
       "      <td>2018-02-13 14:05:00</td>\n",
       "      <td>3.1</td>\n",
       "      <td>845.0</td>\n",
       "    </tr>\n",
       "    <tr>\n",
       "      <th>846</th>\n",
       "      <td>2018-02-13 14:06:00</td>\n",
       "      <td>3.2</td>\n",
       "      <td>846.0</td>\n",
       "    </tr>\n",
       "    <tr>\n",
       "      <th>884</th>\n",
       "      <td>2018-02-13 14:44:00</td>\n",
       "      <td>3.0</td>\n",
       "      <td>884.0</td>\n",
       "    </tr>\n",
       "  </tbody>\n",
       "</table>\n",
       "</div>"
      ],
      "text/plain": [
       "                   Time  Mets  Timedif\n",
       "527 2018-02-13 08:47:00   3.1    527.0\n",
       "568 2018-02-13 09:28:00   3.1    568.0\n",
       "691 2018-02-13 11:31:00   3.1    691.0\n",
       "835 2018-02-13 13:55:00   3.0    835.0\n",
       "838 2018-02-13 13:58:00   3.0    838.0\n",
       "845 2018-02-13 14:05:00   3.1    845.0\n",
       "846 2018-02-13 14:06:00   3.2    846.0\n",
       "884 2018-02-13 14:44:00   3.0    884.0"
      ]
     },
     "execution_count": 23,
     "metadata": {},
     "output_type": "execute_result"
    }
   ],
   "source": [
    "df.loc[df.Mets >= 3]"
   ]
  },
  {
   "cell_type": "code",
   "execution_count": 24,
   "metadata": {},
   "outputs": [
    {
     "data": {
      "text/plain": [
       "False"
      ]
     },
     "execution_count": 24,
     "metadata": {},
     "output_type": "execute_result"
    }
   ],
   "source": [
    "(df.loc[df.Mets >= 3].iat[6,0] - df.loc[df.Mets >= 3].iat[5,0]).seconds > 60"
   ]
  },
  {
   "cell_type": "markdown",
   "metadata": {},
   "source": [
    "In the above case, the person has had one consecutive MVPA minutes (i.e. 2 minutes) but otherwise they were all less than 9 minutes therefore these 8 minutes were all SB MVPA. The index number 845 and 846 indicates that time 845 and 846 were consecutive MVPA values."
   ]
  },
  {
   "cell_type": "markdown",
   "metadata": {},
   "source": [
    "We are going to use the `itertools` package `groupby` class to sort rows into consecutive times. First let's just convert the times into pure numbers so it's easier for us to count using the `itertools`"
   ]
  },
  {
   "cell_type": "code",
   "execution_count": 25,
   "metadata": {},
   "outputs": [],
   "source": [
    "from itertools import groupby, accumulate\n",
    "from operator import itemgetter, mul"
   ]
  },
  {
   "cell_type": "markdown",
   "metadata": {},
   "source": [
    "The below code will iterate through the enumerated list of the time column with Mets >= 3. The groupby function will group the values which are the difference between the 0th and 1st index of the enumerated (i.e. 2-tuple) list. "
   ]
  },
  {
   "cell_type": "code",
   "execution_count": 26,
   "metadata": {},
   "outputs": [
    {
     "name": "stdout",
     "output_type": "stream",
     "text": [
      "1\n",
      "1\n",
      "1\n",
      "1\n",
      "1\n",
      "2\n",
      "1\n"
     ]
    }
   ],
   "source": [
    "for k, g in groupby(enumerate(df.loc[df.Mets >= 3].Timedif.tolist()), lambda i: i[0] - i[1]):\n",
    "    print(len(list(map(itemgetter(1), g))))"
   ]
  },
  {
   "cell_type": "markdown",
   "metadata": {},
   "source": [
    "The below code on the other hand will do something similar but rather return a list of values that are number of consecutive minutes (i.e. consecutive 60 seconds with Mets >= 3)."
   ]
  },
  {
   "cell_type": "code",
   "execution_count": 27,
   "metadata": {},
   "outputs": [
    {
     "data": {
      "text/plain": [
       "[4, 6]"
      ]
     },
     "execution_count": 27,
     "metadata": {},
     "output_type": "execute_result"
    }
   ],
   "source": [
    "# example list\n",
    "data = [2, 3, 4, 5, 12, 13, 14, 15, 16, 17]\n",
    "ranges = []\n",
    "for key, group in groupby(enumerate(data), lambda i: i[0] - i[1]):\n",
    "    group = list(map(itemgetter(1), group))\n",
    "    ranges.append((group[-1]-group[0] + 1))\n",
    "    \n",
    "ranges"
   ]
  },
  {
   "cell_type": "markdown",
   "metadata": {},
   "source": [
    "The above code prints the list of consecutive times of MVPA. Now we will just create a function that will take a list and output a list of two values. The two values will be the sum of consecutive Long-bout and Short-bout MVPA times. For someone who had a MVPA value of >= 10 for two minute should have a value of 2 for the LB_MVPA value while if that same person had 20 minutes of MVPA values < 10, then that person should have a SB_MVPA value of 20 therefore the list would look like `[2, 20]` or some form that has two values."
   ]
  },
  {
   "cell_type": "code",
   "execution_count": 28,
   "metadata": {},
   "outputs": [],
   "source": [
    "def mvpa_sblb(list_data, thresh):\n",
    "    \"\"\"\n",
    "    The input should be a list!\n",
    "    This function returns a list of 2 values. 1 value is the number of short-bout MVPA \n",
    "    The other is the number of long-bout MVPA. \n",
    "    \"\"\"\n",
    "    \n",
    "    #  first create empty list that will be our output \n",
    "    ranges = []\n",
    "\n",
    "    # we need to iterate through the list. This for loop below will create a \n",
    "    # list of values that indicate the consecutive MVPA minutes. \n",
    "    # Therefore a number 2 in the list will indicate that\n",
    "    # The participant had 2 minutes of consecutive time during the day(or week).\n",
    "    # many thanks to https://stackoverflow.com/questions/2154249/identify-groups-of-continuous-numbers-in-a-list\n",
    "    \n",
    "    for key, group in groupby(enumerate(list_data), lambda i: i[0] - i[1]):\n",
    "        group = list(map(itemgetter(1), group))\n",
    "        ranges.append((group[-1]-group[0] + 1))\n",
    "        \n",
    "    # Now we need to check the list and sum the values that are > 9 which forms the value for\n",
    "    # lb_mvpa. If values are <= 9 then they sum to be the value for sb_mvpa\n",
    "    sb_list = []\n",
    "    lb_list = []\n",
    "    for i in ranges:\n",
    "        if ( i >= thresh ):\n",
    "            lb_list.append((i))\n",
    "        else:\n",
    "            sb_list.append((i))\n",
    "    \n",
    "    # sum the values in each list and return list\n",
    "    finlist = [sum(sb_list),sum(lb_list)]\n",
    "    \n",
    "    return(finlist)"
   ]
  },
  {
   "cell_type": "code",
   "execution_count": 29,
   "metadata": {},
   "outputs": [
    {
     "data": {
      "text/plain": [
       "[10, 0]"
      ]
     },
     "execution_count": 29,
     "metadata": {},
     "output_type": "execute_result"
    }
   ],
   "source": [
    "mvpa_sblb(data, thresh=10)"
   ]
  },
  {
   "cell_type": "markdown",
   "metadata": {},
   "source": [
    "Now try it on our data"
   ]
  },
  {
   "cell_type": "code",
   "execution_count": 30,
   "metadata": {},
   "outputs": [
    {
     "data": {
      "text/plain": [
       "[8.0, 0]"
      ]
     },
     "execution_count": 30,
     "metadata": {},
     "output_type": "execute_result"
    }
   ],
   "source": [
    "mvpa_sblb(df.loc[df.Mets >= 3].Timedif, thresh = 10)"
   ]
  },
  {
   "cell_type": "markdown",
   "metadata": {},
   "source": [
    "We clearly see this person's total MVPA is composed of 'SB' only"
   ]
  },
  {
   "cell_type": "markdown",
   "metadata": {},
   "source": [
    "Now lets try it after merging two files from the same person"
   ]
  },
  {
   "cell_type": "code",
   "execution_count": 31,
   "metadata": {},
   "outputs": [],
   "source": [
    "import glob \n",
    "import pandas as pd\n",
    "import re\n",
    "path = r'../data' # path to csv files\n",
    "# save the names of the files into a list\n",
    "allFiles = ['../data/15kenoku20180211.csv', '../data/15kenoku20180212.csv']\n",
    "frame = pd.DataFrame()\n",
    "list_ = []\n",
    "\n",
    "for file_ in allFiles:\n",
    "    df = pd.read_csv(file_, index_col=None, encoding='cp932', skiprows= [0,1,2], header=0)\n",
    "    df.columns = [\"Time\",\"Mets\",\"random\"]\n",
    "    df.drop('random', axis=1, inplace=True)\n",
    "    df[\"Time\"] = (pd.Series([re.search('../data/\\d*'+'kenoku'+'(\\d+).csv', file_).group(1)]*df.shape[0]) + \" \" + df.Time)\n",
    "    df['Time'] =  pd.to_datetime(df['Time'], format=\"%Y%m%d %H:%M:%S\")\n",
    "    df['Timedif'] = (df.Time - pd.DataFrame({\"FTime\": [df.Time.tolist()[0]]*df.shape[0]}).FTime).astype('timedelta64[m]')\n",
    "    \n",
    "    list_.append(df)\n",
    "df = pd.concat(list_, ignore_index=True)"
   ]
  },
  {
   "cell_type": "code",
   "execution_count": 32,
   "metadata": {},
   "outputs": [
    {
     "data": {
      "text/plain": [
       "2880"
      ]
     },
     "execution_count": 32,
     "metadata": {},
     "output_type": "execute_result"
    }
   ],
   "source": [
    "df.shape[0]"
   ]
  },
  {
   "cell_type": "code",
   "execution_count": 33,
   "metadata": {},
   "outputs": [
    {
     "data": {
      "text/html": [
       "<div>\n",
       "<style>\n",
       "    .dataframe thead tr:only-child th {\n",
       "        text-align: right;\n",
       "    }\n",
       "\n",
       "    .dataframe thead th {\n",
       "        text-align: left;\n",
       "    }\n",
       "\n",
       "    .dataframe tbody tr th {\n",
       "        vertical-align: top;\n",
       "    }\n",
       "</style>\n",
       "<table border=\"1\" class=\"dataframe\">\n",
       "  <thead>\n",
       "    <tr style=\"text-align: right;\">\n",
       "      <th></th>\n",
       "      <th>Time</th>\n",
       "      <th>Mets</th>\n",
       "      <th>Timedif</th>\n",
       "    </tr>\n",
       "  </thead>\n",
       "  <tbody>\n",
       "    <tr>\n",
       "      <th>0</th>\n",
       "      <td>2018-02-11 00:00:00</td>\n",
       "      <td>0.0</td>\n",
       "      <td>0.0</td>\n",
       "    </tr>\n",
       "    <tr>\n",
       "      <th>1</th>\n",
       "      <td>2018-02-11 00:01:00</td>\n",
       "      <td>0.0</td>\n",
       "      <td>1.0</td>\n",
       "    </tr>\n",
       "  </tbody>\n",
       "</table>\n",
       "</div>"
      ],
      "text/plain": [
       "                 Time  Mets  Timedif\n",
       "0 2018-02-11 00:00:00   0.0      0.0\n",
       "1 2018-02-11 00:01:00   0.0      1.0"
      ]
     },
     "execution_count": 33,
     "metadata": {},
     "output_type": "execute_result"
    }
   ],
   "source": [
    "df.head(2)"
   ]
  },
  {
   "cell_type": "code",
   "execution_count": 34,
   "metadata": {},
   "outputs": [
    {
     "data": {
      "text/plain": [
       "[16.0, 0]"
      ]
     },
     "execution_count": 34,
     "metadata": {},
     "output_type": "execute_result"
    }
   ],
   "source": [
    "mvpa_sblb(df.loc[df.Mets >= 3].Timedif, thresh = 10)"
   ]
  },
  {
   "cell_type": "code",
   "execution_count": 35,
   "metadata": {},
   "outputs": [
    {
     "data": {
      "text/html": [
       "<div>\n",
       "<style>\n",
       "    .dataframe thead tr:only-child th {\n",
       "        text-align: right;\n",
       "    }\n",
       "\n",
       "    .dataframe thead th {\n",
       "        text-align: left;\n",
       "    }\n",
       "\n",
       "    .dataframe tbody tr th {\n",
       "        vertical-align: top;\n",
       "    }\n",
       "</style>\n",
       "<table border=\"1\" class=\"dataframe\">\n",
       "  <thead>\n",
       "    <tr style=\"text-align: right;\">\n",
       "      <th></th>\n",
       "      <th>SB_MVPA</th>\n",
       "      <th>LB_MVPA</th>\n",
       "      <th>Name</th>\n",
       "    </tr>\n",
       "  </thead>\n",
       "  <tbody>\n",
       "    <tr>\n",
       "      <th>0</th>\n",
       "      <td>16.0</td>\n",
       "      <td>0.0</td>\n",
       "      <td>kenoku</td>\n",
       "    </tr>\n",
       "  </tbody>\n",
       "</table>\n",
       "</div>"
      ],
      "text/plain": [
       "   SB_MVPA  LB_MVPA    Name\n",
       "0     16.0      0.0  kenoku"
      ]
     },
     "execution_count": 35,
     "metadata": {},
     "output_type": "execute_result"
    }
   ],
   "source": [
    "finalout = pd.DataFrame({\n",
    "        \"SB_MVPA\":[],\n",
    "        \"LB_MVPA\":[],\n",
    "        \"Name\": [],\n",
    "    })\n",
    "finalout.columns = [\"SB_MVPA\",\"LB_MVPA\",\"Name\"]\n",
    "finalout.loc[0] = mvpa_sblb(df.loc[df.Mets >= 3].Timedif, thresh = 10) + [\"kenoku\"]\n",
    "finalout"
   ]
  },
  {
   "cell_type": "markdown",
   "metadata": {},
   "source": [
    "## Merging multiple csv files row-wise"
   ]
  },
  {
   "cell_type": "markdown",
   "metadata": {},
   "source": [
    "The following code is to retrieve files from the data folder and merge it to create a data frame as below:"
   ]
  },
  {
   "cell_type": "code",
   "execution_count": 36,
   "metadata": {},
   "outputs": [
    {
     "data": {
      "text/html": [
       "<div>\n",
       "<style>\n",
       "    .dataframe thead tr:only-child th {\n",
       "        text-align: right;\n",
       "    }\n",
       "\n",
       "    .dataframe thead th {\n",
       "        text-align: left;\n",
       "    }\n",
       "\n",
       "    .dataframe tbody tr th {\n",
       "        vertical-align: top;\n",
       "    }\n",
       "</style>\n",
       "<table border=\"1\" class=\"dataframe\">\n",
       "  <thead>\n",
       "    <tr style=\"text-align: right;\">\n",
       "      <th></th>\n",
       "      <th>Time</th>\n",
       "      <th>id</th>\n",
       "    </tr>\n",
       "  </thead>\n",
       "  <tbody>\n",
       "    <tr>\n",
       "      <th>0</th>\n",
       "      <td>0</td>\n",
       "      <td>1</td>\n",
       "    </tr>\n",
       "    <tr>\n",
       "      <th>1</th>\n",
       "      <td>1</td>\n",
       "      <td>2</td>\n",
       "    </tr>\n",
       "    <tr>\n",
       "      <th>2</th>\n",
       "      <td>3</td>\n",
       "      <td>3</td>\n",
       "    </tr>\n",
       "    <tr>\n",
       "      <th>3</th>\n",
       "      <td>5</td>\n",
       "      <td>4</td>\n",
       "    </tr>\n",
       "    <tr>\n",
       "      <th>4</th>\n",
       "      <td>7</td>\n",
       "      <td>5</td>\n",
       "    </tr>\n",
       "  </tbody>\n",
       "</table>\n",
       "</div>"
      ],
      "text/plain": [
       "   Time  id\n",
       "0     0   1\n",
       "1     1   2\n",
       "2     3   3\n",
       "3     5   4\n",
       "4     7   5"
      ]
     },
     "execution_count": 36,
     "metadata": {},
     "output_type": "execute_result"
    }
   ],
   "source": [
    "import numpy as np\n",
    "\n",
    "df_want = pd.DataFrame({\n",
    "    \"id\": np.arange(10) + 1,\n",
    "    \"Time\": [0, 1, 3, 5, 7, 8, 9, 10, 12, 13]\n",
    "})\n",
    "df_want.head()"
   ]
  },
  {
   "cell_type": "markdown",
   "metadata": {},
   "source": [
    "Ideally, we would like to create a function that will take the identifying information from the `*.csv` files (e.g. 15kentaokuyama120210.csv, 15kentaokuyama120211.csv...) and load them in."
   ]
  },
  {
   "cell_type": "code",
   "execution_count": 37,
   "metadata": {},
   "outputs": [],
   "source": [
    "import glob\n",
    "path = r'../data' # specify the path of the data files\n",
    "allFiles = glob.glob(path + '/*.csv') # this creates a list of all the files in the folder with /*.csv extension"
   ]
  },
  {
   "cell_type": "code",
   "execution_count": 38,
   "metadata": {},
   "outputs": [
    {
     "data": {
      "text/plain": [
       "['../data/15ericdong20180213.csv',\n",
       " '../data/15ericdong20180212.csv',\n",
       " '../data/forpractice20180213.csv',\n",
       " '../data/forpractice20180212.csv',\n",
       " '../data/15kenoku20180211.csv',\n",
       " '../data/forpractice-Copy5.csv',\n",
       " '../data/15ericdong20180211.csv',\n",
       " '../data/forpractice.csv',\n",
       " '../data/forpractice-Copy4.csv',\n",
       " '../data/15ericdong20180210.csv',\n",
       " '../data/15kenoku20180213.csv',\n",
       " '../data/forpractice20180211.csv',\n",
       " '../data/forpractice20180210.csv',\n",
       " '../data/15kenoku20180210.csv',\n",
       " '../data/15kenoku20180212.csv']"
      ]
     },
     "execution_count": 38,
     "metadata": {},
     "output_type": "execute_result"
    }
   ],
   "source": [
    "allFiles"
   ]
  },
  {
   "cell_type": "markdown",
   "metadata": {},
   "source": [
    "Now we want to specify a function that will take in the names that we want to use and extract the csv files that we will load in"
   ]
  },
  {
   "cell_type": "code",
   "execution_count": 39,
   "metadata": {},
   "outputs": [],
   "source": [
    "def mvpa_create(name_list, csv_path):\n",
    "    \"\"\"\n",
    "    This function takes a list of names and the data path in order to: \n",
    "    1. Merge the data frames row-wise. The individual's data will be stored in a pandas DataFrame\n",
    "    column-wise.\n",
    "    2. Then each individuals data will be used to calculate lb and sb mvpa \n",
    "    3. The output will be a data frame of 1 patient 1 row with columns representing mvpa statistics\n",
    "    \"\"\"\n",
    "    \n",
    "    #1. Merge data frames rowise\n",
    "    import glob\n",
    "    import pandas as pd\n",
    "    import re\n",
    "    allFiles = glob.glob(csv_path + \"/*.csv\")\n",
    "    \n",
    "    # save the individual data file names into key value pairs as dictionary\n",
    "    filesdic = {}\n",
    "    # iterate through name and append file to selectFiles\n",
    "    for name in name_list:\n",
    "        selectFiles = []\n",
    "        for i in range(len(allFiles)):\n",
    "            # since there will be errors if we don't bypass the error s from the\n",
    "            # non working regexp list elements... we need a try/except statement here\n",
    "            try:\n",
    "                selectFiles.append(re.search('../data/\\d*('+name+')(\\d+).csv', allFiles[i]).group())\n",
    "            except:\n",
    "                pass\n",
    "        filesdic[name] = selectFiles\n",
    "    # to check the returned dictionary uncomment next line   \n",
    "    #return(filesdic)\n",
    "    \n",
    "    # create finalout dataset that will be populated at the end\n",
    "    finalout = pd.DataFrame({\n",
    "        \"SB_MVPA\":[],\n",
    "        \"LB_MVPA\":[],\n",
    "        \"Name\": [],\n",
    "    })\n",
    "    finalout.columns = [\"SB_MVPA\",\"LB_MVPA\",\"Name\"]\n",
    "    \n",
    "    # here we iterate through each of the patient names\n",
    "    for i in filesdic:\n",
    "        frame = pd.DataFrame()\n",
    "        list_ = []\n",
    "        \n",
    "        # we iterate through the files for each of the patients and create 1 dataframe\n",
    "        for file_ in filesdic[i]:\n",
    "            # read in the csv files onto an object `df`\n",
    "            df = pd.read_csv(file_, index_col=None, encoding='cp932', skiprows = [0,1,2], header=0)\n",
    "            df.columns = [\"Time\",\"Mets\",\"random\"] # names of column from japanese to english\n",
    "            df.drop('random', axis=1, inplace=True) # drop last column\n",
    "            \n",
    "            # as we did before since the dates aren't added onto the time column we need to add the \n",
    "            # dates based on the csv file name\n",
    "            df[\"Time\"] = (pd.Series([re.search('../data/\\d*'+i+'(\\d+).csv', file_).group(1)]*df.shape[0]) + \" \" + df.Time)\n",
    "            df['Time'] =  pd.to_datetime(df['Time'], format=\"%Y%m%d %H:%M:%S\") # convert to datetime\n",
    "            df['Timedif'] = (df.Time - pd.DataFrame({\"FTime\": [df.Time.tolist()[0]]*df.shape[0]}).FTime).astype('timedelta64[m]')\n",
    "            list_.append(df)\n",
    "        \n",
    "        # Once the list_ file has been populated row-wise.. make it into pd dataframe\n",
    "        frame = pd.concat(list_, ignore_index=True)\n",
    "        # now use the mvpa_lbsb function to get the 2 value list\n",
    "        finalout.loc[i] = mvpa_sblb(frame.loc[frame.Mets >= 3].Timedif, thresh = 10)+ [i]\n",
    "    \n",
    "    return(finalout)\n",
    "    \n",
    "tmp = mvpa_create(['kenoku','ericdong'], r'../data')"
   ]
  },
  {
   "cell_type": "code",
   "execution_count": 40,
   "metadata": {},
   "outputs": [
    {
     "data": {
      "text/html": [
       "<div>\n",
       "<style>\n",
       "    .dataframe thead tr:only-child th {\n",
       "        text-align: right;\n",
       "    }\n",
       "\n",
       "    .dataframe thead th {\n",
       "        text-align: left;\n",
       "    }\n",
       "\n",
       "    .dataframe tbody tr th {\n",
       "        vertical-align: top;\n",
       "    }\n",
       "</style>\n",
       "<table border=\"1\" class=\"dataframe\">\n",
       "  <thead>\n",
       "    <tr style=\"text-align: right;\">\n",
       "      <th></th>\n",
       "      <th>SB_MVPA</th>\n",
       "      <th>LB_MVPA</th>\n",
       "      <th>Name</th>\n",
       "    </tr>\n",
       "  </thead>\n",
       "  <tbody>\n",
       "    <tr>\n",
       "      <th>kenoku</th>\n",
       "      <td>32.0</td>\n",
       "      <td>0.0</td>\n",
       "      <td>kenoku</td>\n",
       "    </tr>\n",
       "    <tr>\n",
       "      <th>ericdong</th>\n",
       "      <td>32.0</td>\n",
       "      <td>0.0</td>\n",
       "      <td>ericdong</td>\n",
       "    </tr>\n",
       "  </tbody>\n",
       "</table>\n",
       "</div>"
      ],
      "text/plain": [
       "          SB_MVPA  LB_MVPA      Name\n",
       "kenoku       32.0      0.0    kenoku\n",
       "ericdong     32.0      0.0  ericdong"
      ]
     },
     "execution_count": 40,
     "metadata": {},
     "output_type": "execute_result"
    }
   ],
   "source": [
    "tmp"
   ]
  },
  {
   "cell_type": "markdown",
   "metadata": {},
   "source": [
    "## Vuala!"
   ]
  },
  {
   "cell_type": "markdown",
   "metadata": {},
   "source": [
    "The last out put is basically what we want in terms of the short-bout and long-bout MV physical activity. Other additional variable creation to come!"
   ]
  }
 ],
 "metadata": {
  "kernelspec": {
   "display_name": "Python 3",
   "language": "python",
   "name": "python3"
  },
  "language_info": {
   "codemirror_mode": {
    "name": "ipython",
    "version": 3
   },
   "file_extension": ".py",
   "mimetype": "text/x-python",
   "name": "python",
   "nbconvert_exporter": "python",
   "pygments_lexer": "ipython3",
   "version": "3.6.3"
  }
 },
 "nbformat": 4,
 "nbformat_minor": 2
}
