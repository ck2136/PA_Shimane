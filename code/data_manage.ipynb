{
 "cells": [
  {
   "cell_type": "markdown",
   "metadata": {
    "slideshow": {
     "slide_type": "-"
    }
   },
   "source": [
    "This is a temporary notebook"
   ]
  },
  {
   "cell_type": "code",
   "execution_count": 1,
   "metadata": {},
   "outputs": [],
   "source": [
    "import pandas as pd"
   ]
  },
  {
   "cell_type": "code",
   "execution_count": 2,
   "metadata": {},
   "outputs": [],
   "source": [
    "# The below code gives a huge error due to encoding issue\n",
    "# kenta and I have struggled with this for at least an hour...\n",
    "# df = pd.read_csv(\"forpractice.csv\")"
   ]
  },
  {
   "cell_type": "markdown",
   "metadata": {},
   "source": [
    "Here we get a huge error due to unicode-decoding error without specifying a decoder in read_csv. So we need to figure out at 0x93 position which decoder we need."
   ]
  },
  {
   "cell_type": "code",
   "execution_count": 3,
   "metadata": {},
   "outputs": [],
   "source": [
    "df = pd.read_csv(\"forpractice.csv\", encoding='cp932', skiprows= [0,1,2])"
   ]
  },
  {
   "cell_type": "code",
   "execution_count": 4,
   "metadata": {},
   "outputs": [],
   "source": [
    "name = pd.read_csv(\"forpractice.csv\", encoding=\"cp932\", nrows=1, header=None)"
   ]
  },
  {
   "cell_type": "code",
   "execution_count": 5,
   "metadata": {},
   "outputs": [
    {
     "data": {
      "text/plain": [
       "'田中敬一郎'"
      ]
     },
     "execution_count": 5,
     "metadata": {},
     "output_type": "execute_result"
    }
   ],
   "source": [
    "name.iat[0,0] # this is the name of the individual"
   ]
  },
  {
   "cell_type": "code",
   "execution_count": 6,
   "metadata": {},
   "outputs": [
    {
     "data": {
      "text/html": [
       "<div>\n",
       "<style>\n",
       "    .dataframe thead tr:only-child th {\n",
       "        text-align: right;\n",
       "    }\n",
       "\n",
       "    .dataframe thead th {\n",
       "        text-align: left;\n",
       "    }\n",
       "\n",
       "    .dataframe tbody tr th {\n",
       "        vertical-align: top;\n",
       "    }\n",
       "</style>\n",
       "<table border=\"1\" class=\"dataframe\">\n",
       "  <thead>\n",
       "    <tr style=\"text-align: right;\">\n",
       "      <th></th>\n",
       "      <th>時刻</th>\n",
       "      <th>活動強度</th>\n",
       "      <th>運動種別</th>\n",
       "    </tr>\n",
       "  </thead>\n",
       "  <tbody>\n",
       "    <tr>\n",
       "      <th>0</th>\n",
       "      <td>0:00:00</td>\n",
       "      <td>0.0</td>\n",
       "      <td>計測なし</td>\n",
       "    </tr>\n",
       "    <tr>\n",
       "      <th>1</th>\n",
       "      <td>0:01:00</td>\n",
       "      <td>0.0</td>\n",
       "      <td>計測なし</td>\n",
       "    </tr>\n",
       "    <tr>\n",
       "      <th>2</th>\n",
       "      <td>0:02:00</td>\n",
       "      <td>0.0</td>\n",
       "      <td>計測なし</td>\n",
       "    </tr>\n",
       "    <tr>\n",
       "      <th>3</th>\n",
       "      <td>0:03:00</td>\n",
       "      <td>0.0</td>\n",
       "      <td>計測なし</td>\n",
       "    </tr>\n",
       "    <tr>\n",
       "      <th>4</th>\n",
       "      <td>0:04:00</td>\n",
       "      <td>0.0</td>\n",
       "      <td>計測なし</td>\n",
       "    </tr>\n",
       "  </tbody>\n",
       "</table>\n",
       "</div>"
      ],
      "text/plain": [
       "        時刻  活動強度  運動種別\n",
       "0  0:00:00   0.0  計測なし\n",
       "1  0:01:00   0.0  計測なし\n",
       "2  0:02:00   0.0  計測なし\n",
       "3  0:03:00   0.0  計測なし\n",
       "4  0:04:00   0.0  計測なし"
      ]
     },
     "execution_count": 6,
     "metadata": {},
     "output_type": "execute_result"
    }
   ],
   "source": [
    "df.head()"
   ]
  },
  {
   "cell_type": "markdown",
   "metadata": {},
   "source": [
    "It looks like we did a pretty good job. I don't really understand what the columns are saying so... we should probably change the column names."
   ]
  },
  {
   "cell_type": "code",
   "execution_count": 7,
   "metadata": {},
   "outputs": [],
   "source": [
    "df.columns = [\"Time\",\"Mets\",\"random\"]"
   ]
  },
  {
   "cell_type": "markdown",
   "metadata": {},
   "source": [
    "Let's also remove the 3rd column because we don't need it"
   ]
  },
  {
   "cell_type": "code",
   "execution_count": 8,
   "metadata": {},
   "outputs": [
    {
     "data": {
      "text/html": [
       "<div>\n",
       "<style>\n",
       "    .dataframe thead tr:only-child th {\n",
       "        text-align: right;\n",
       "    }\n",
       "\n",
       "    .dataframe thead th {\n",
       "        text-align: left;\n",
       "    }\n",
       "\n",
       "    .dataframe tbody tr th {\n",
       "        vertical-align: top;\n",
       "    }\n",
       "</style>\n",
       "<table border=\"1\" class=\"dataframe\">\n",
       "  <thead>\n",
       "    <tr style=\"text-align: right;\">\n",
       "      <th></th>\n",
       "      <th>Time</th>\n",
       "      <th>Mets</th>\n",
       "    </tr>\n",
       "  </thead>\n",
       "  <tbody>\n",
       "    <tr>\n",
       "      <th>0</th>\n",
       "      <td>0:00:00</td>\n",
       "      <td>0.0</td>\n",
       "    </tr>\n",
       "    <tr>\n",
       "      <th>1</th>\n",
       "      <td>0:01:00</td>\n",
       "      <td>0.0</td>\n",
       "    </tr>\n",
       "    <tr>\n",
       "      <th>2</th>\n",
       "      <td>0:02:00</td>\n",
       "      <td>0.0</td>\n",
       "    </tr>\n",
       "    <tr>\n",
       "      <th>3</th>\n",
       "      <td>0:03:00</td>\n",
       "      <td>0.0</td>\n",
       "    </tr>\n",
       "    <tr>\n",
       "      <th>4</th>\n",
       "      <td>0:04:00</td>\n",
       "      <td>0.0</td>\n",
       "    </tr>\n",
       "  </tbody>\n",
       "</table>\n",
       "</div>"
      ],
      "text/plain": [
       "      Time  Mets\n",
       "0  0:00:00   0.0\n",
       "1  0:01:00   0.0\n",
       "2  0:02:00   0.0\n",
       "3  0:03:00   0.0\n",
       "4  0:04:00   0.0"
      ]
     },
     "execution_count": 8,
     "metadata": {},
     "output_type": "execute_result"
    }
   ],
   "source": [
    "df.drop('random', axis=1, inplace=True)\n",
    "df.head()"
   ]
  },
  {
   "cell_type": "markdown",
   "metadata": {},
   "source": [
    "Let's convert the time column to datetime type"
   ]
  },
  {
   "cell_type": "markdown",
   "metadata": {},
   "source": [
    "First create a new column that will convert the charactercolumn `Time` into a timestamp column"
   ]
  },
  {
   "cell_type": "code",
   "execution_count": 68,
   "metadata": {},
   "outputs": [],
   "source": [
    "df['Time2'] = pd.to_datetime(df['Time'], format=\"%H:%M:%S\")"
   ]
  },
  {
   "cell_type": "code",
   "execution_count": 69,
   "metadata": {},
   "outputs": [
    {
     "data": {
      "text/html": [
       "<div>\n",
       "<style>\n",
       "    .dataframe thead tr:only-child th {\n",
       "        text-align: right;\n",
       "    }\n",
       "\n",
       "    .dataframe thead th {\n",
       "        text-align: left;\n",
       "    }\n",
       "\n",
       "    .dataframe tbody tr th {\n",
       "        vertical-align: top;\n",
       "    }\n",
       "</style>\n",
       "<table border=\"1\" class=\"dataframe\">\n",
       "  <thead>\n",
       "    <tr style=\"text-align: right;\">\n",
       "      <th></th>\n",
       "      <th>Time</th>\n",
       "      <th>Mets</th>\n",
       "      <th>Time2</th>\n",
       "    </tr>\n",
       "  </thead>\n",
       "  <tbody>\n",
       "    <tr>\n",
       "      <th>0</th>\n",
       "      <td>0:00:00</td>\n",
       "      <td>0.0</td>\n",
       "      <td>1900-01-01 00:00:00</td>\n",
       "    </tr>\n",
       "    <tr>\n",
       "      <th>1</th>\n",
       "      <td>0:01:00</td>\n",
       "      <td>0.0</td>\n",
       "      <td>1900-01-01 00:01:00</td>\n",
       "    </tr>\n",
       "    <tr>\n",
       "      <th>2</th>\n",
       "      <td>0:02:00</td>\n",
       "      <td>0.0</td>\n",
       "      <td>1900-01-01 00:02:00</td>\n",
       "    </tr>\n",
       "    <tr>\n",
       "      <th>3</th>\n",
       "      <td>0:03:00</td>\n",
       "      <td>0.0</td>\n",
       "      <td>1900-01-01 00:03:00</td>\n",
       "    </tr>\n",
       "    <tr>\n",
       "      <th>4</th>\n",
       "      <td>0:04:00</td>\n",
       "      <td>0.0</td>\n",
       "      <td>1900-01-01 00:04:00</td>\n",
       "    </tr>\n",
       "  </tbody>\n",
       "</table>\n",
       "</div>"
      ],
      "text/plain": [
       "      Time  Mets               Time2\n",
       "0  0:00:00   0.0 1900-01-01 00:00:00\n",
       "1  0:01:00   0.0 1900-01-01 00:01:00\n",
       "2  0:02:00   0.0 1900-01-01 00:02:00\n",
       "3  0:03:00   0.0 1900-01-01 00:03:00\n",
       "4  0:04:00   0.0 1900-01-01 00:04:00"
      ]
     },
     "execution_count": 69,
     "metadata": {},
     "output_type": "execute_result"
    }
   ],
   "source": [
    "df.head()"
   ]
  },
  {
   "cell_type": "markdown",
   "metadata": {},
   "source": [
    "Now need to create a column that will subtract all time from the beginning of the day"
   ]
  },
  {
   "cell_type": "code",
   "execution_count": 98,
   "metadata": {},
   "outputs": [
    {
     "data": {
      "text/plain": [
       "0    0.0\n",
       "1    1.0\n",
       "2    2.0\n",
       "3    3.0\n",
       "4    4.0\n",
       "dtype: float64"
      ]
     },
     "execution_count": 98,
     "metadata": {},
     "output_type": "execute_result"
    }
   ],
   "source": [
    "(df.Time2 - pd.DataFrame({\"FTime\": [df.Time2.tolist()[0]]*df.shape[0]}).FTime).astype('timedelta64[m]').head()"
   ]
  },
  {
   "cell_type": "code",
   "execution_count": 100,
   "metadata": {},
   "outputs": [],
   "source": [
    "df['Time3'] = (df.Time2 - pd.DataFrame({\"FTime\": [df.Time2.tolist()[0]]*df.shape[0]}).FTime).astype('timedelta64[m]')"
   ]
  },
  {
   "cell_type": "code",
   "execution_count": 101,
   "metadata": {},
   "outputs": [
    {
     "data": {
      "text/html": [
       "<div>\n",
       "<style>\n",
       "    .dataframe thead tr:only-child th {\n",
       "        text-align: right;\n",
       "    }\n",
       "\n",
       "    .dataframe thead th {\n",
       "        text-align: left;\n",
       "    }\n",
       "\n",
       "    .dataframe tbody tr th {\n",
       "        vertical-align: top;\n",
       "    }\n",
       "</style>\n",
       "<table border=\"1\" class=\"dataframe\">\n",
       "  <thead>\n",
       "    <tr style=\"text-align: right;\">\n",
       "      <th></th>\n",
       "      <th>Time</th>\n",
       "      <th>Mets</th>\n",
       "      <th>Time2</th>\n",
       "      <th>Time3</th>\n",
       "    </tr>\n",
       "  </thead>\n",
       "  <tbody>\n",
       "    <tr>\n",
       "      <th>1435</th>\n",
       "      <td>23:55:00</td>\n",
       "      <td>0.0</td>\n",
       "      <td>1900-01-01 23:55:00</td>\n",
       "      <td>1435.0</td>\n",
       "    </tr>\n",
       "    <tr>\n",
       "      <th>1436</th>\n",
       "      <td>23:56:00</td>\n",
       "      <td>0.0</td>\n",
       "      <td>1900-01-01 23:56:00</td>\n",
       "      <td>1436.0</td>\n",
       "    </tr>\n",
       "    <tr>\n",
       "      <th>1437</th>\n",
       "      <td>23:57:00</td>\n",
       "      <td>0.0</td>\n",
       "      <td>1900-01-01 23:57:00</td>\n",
       "      <td>1437.0</td>\n",
       "    </tr>\n",
       "    <tr>\n",
       "      <th>1438</th>\n",
       "      <td>23:58:00</td>\n",
       "      <td>0.0</td>\n",
       "      <td>1900-01-01 23:58:00</td>\n",
       "      <td>1438.0</td>\n",
       "    </tr>\n",
       "    <tr>\n",
       "      <th>1439</th>\n",
       "      <td>23:59:00</td>\n",
       "      <td>0.0</td>\n",
       "      <td>1900-01-01 23:59:00</td>\n",
       "      <td>1439.0</td>\n",
       "    </tr>\n",
       "  </tbody>\n",
       "</table>\n",
       "</div>"
      ],
      "text/plain": [
       "          Time  Mets               Time2   Time3\n",
       "1435  23:55:00   0.0 1900-01-01 23:55:00  1435.0\n",
       "1436  23:56:00   0.0 1900-01-01 23:56:00  1436.0\n",
       "1437  23:57:00   0.0 1900-01-01 23:57:00  1437.0\n",
       "1438  23:58:00   0.0 1900-01-01 23:58:00  1438.0\n",
       "1439  23:59:00   0.0 1900-01-01 23:59:00  1439.0"
      ]
     },
     "execution_count": 101,
     "metadata": {},
     "output_type": "execute_result"
    }
   ],
   "source": [
    "df.head(); df.tail()"
   ]
  },
  {
   "cell_type": "markdown",
   "metadata": {},
   "source": [
    "Finally we have a column that has minutes from the beginning to the end"
   ]
  },
  {
   "cell_type": "markdown",
   "metadata": {},
   "source": [
    "So we need to find the count of individuals that have the `Mets` column >= 0. We need to determine if the count is > 150 (after aggregating all the 7 days)"
   ]
  },
  {
   "cell_type": "code",
   "execution_count": 102,
   "metadata": {},
   "outputs": [
    {
     "data": {
      "text/plain": [
       "8"
      ]
     },
     "execution_count": 102,
     "metadata": {},
     "output_type": "execute_result"
    }
   ],
   "source": [
    "df.loc[df.Mets >= 3].Mets.count()"
   ]
  },
  {
   "cell_type": "code",
   "execution_count": 103,
   "metadata": {},
   "outputs": [
    {
     "data": {
      "text/plain": [
       "215"
      ]
     },
     "execution_count": 103,
     "metadata": {},
     "output_type": "execute_result"
    }
   ],
   "source": [
    "df.loc[(df['Mets']>= 1.6) & (df['Mets'] < 3)].Mets.count() #LIPA"
   ]
  },
  {
   "cell_type": "code",
   "execution_count": 104,
   "metadata": {},
   "outputs": [
    {
     "data": {
      "text/plain": [
       "1217"
      ]
     },
     "execution_count": 104,
     "metadata": {},
     "output_type": "execute_result"
    }
   ],
   "source": [
    "df.loc[(df['Mets'] <= 1.5)].Mets.count() #Sedentary 1217"
   ]
  },
  {
   "cell_type": "markdown",
   "metadata": {},
   "source": [
    "Now we need to add Short-bout Long-bout MVPA where SB is 1 ~ 9 mins MVPA and LB is >= 10 mins MVPA. We need to sum the count of the Mets."
   ]
  },
  {
   "cell_type": "code",
   "execution_count": 105,
   "metadata": {},
   "outputs": [
    {
     "data": {
      "text/plain": [
       "8"
      ]
     },
     "execution_count": 105,
     "metadata": {},
     "output_type": "execute_result"
    }
   ],
   "source": [
    "df.loc[df.Mets >= 3].shape[0]"
   ]
  },
  {
   "cell_type": "markdown",
   "metadata": {},
   "source": [
    "The person above has no consecutive MVPA thus would be considered to have 8 mins of SB MVPA."
   ]
  },
  {
   "cell_type": "code",
   "execution_count": 106,
   "metadata": {},
   "outputs": [
    {
     "data": {
      "text/html": [
       "<div>\n",
       "<style>\n",
       "    .dataframe thead tr:only-child th {\n",
       "        text-align: right;\n",
       "    }\n",
       "\n",
       "    .dataframe thead th {\n",
       "        text-align: left;\n",
       "    }\n",
       "\n",
       "    .dataframe tbody tr th {\n",
       "        vertical-align: top;\n",
       "    }\n",
       "</style>\n",
       "<table border=\"1\" class=\"dataframe\">\n",
       "  <thead>\n",
       "    <tr style=\"text-align: right;\">\n",
       "      <th></th>\n",
       "      <th>Time</th>\n",
       "      <th>Mets</th>\n",
       "      <th>Time2</th>\n",
       "      <th>Time3</th>\n",
       "    </tr>\n",
       "  </thead>\n",
       "  <tbody>\n",
       "    <tr>\n",
       "      <th>527</th>\n",
       "      <td>8:47:00</td>\n",
       "      <td>3.1</td>\n",
       "      <td>1900-01-01 08:47:00</td>\n",
       "      <td>527.0</td>\n",
       "    </tr>\n",
       "    <tr>\n",
       "      <th>568</th>\n",
       "      <td>9:28:00</td>\n",
       "      <td>3.1</td>\n",
       "      <td>1900-01-01 09:28:00</td>\n",
       "      <td>568.0</td>\n",
       "    </tr>\n",
       "    <tr>\n",
       "      <th>691</th>\n",
       "      <td>11:31:00</td>\n",
       "      <td>3.1</td>\n",
       "      <td>1900-01-01 11:31:00</td>\n",
       "      <td>691.0</td>\n",
       "    </tr>\n",
       "    <tr>\n",
       "      <th>835</th>\n",
       "      <td>13:55:00</td>\n",
       "      <td>3.0</td>\n",
       "      <td>1900-01-01 13:55:00</td>\n",
       "      <td>835.0</td>\n",
       "    </tr>\n",
       "    <tr>\n",
       "      <th>838</th>\n",
       "      <td>13:58:00</td>\n",
       "      <td>3.0</td>\n",
       "      <td>1900-01-01 13:58:00</td>\n",
       "      <td>838.0</td>\n",
       "    </tr>\n",
       "    <tr>\n",
       "      <th>845</th>\n",
       "      <td>14:05:00</td>\n",
       "      <td>3.1</td>\n",
       "      <td>1900-01-01 14:05:00</td>\n",
       "      <td>845.0</td>\n",
       "    </tr>\n",
       "    <tr>\n",
       "      <th>846</th>\n",
       "      <td>14:06:00</td>\n",
       "      <td>3.2</td>\n",
       "      <td>1900-01-01 14:06:00</td>\n",
       "      <td>846.0</td>\n",
       "    </tr>\n",
       "    <tr>\n",
       "      <th>884</th>\n",
       "      <td>14:44:00</td>\n",
       "      <td>3.0</td>\n",
       "      <td>1900-01-01 14:44:00</td>\n",
       "      <td>884.0</td>\n",
       "    </tr>\n",
       "  </tbody>\n",
       "</table>\n",
       "</div>"
      ],
      "text/plain": [
       "         Time  Mets               Time2  Time3\n",
       "527   8:47:00   3.1 1900-01-01 08:47:00  527.0\n",
       "568   9:28:00   3.1 1900-01-01 09:28:00  568.0\n",
       "691  11:31:00   3.1 1900-01-01 11:31:00  691.0\n",
       "835  13:55:00   3.0 1900-01-01 13:55:00  835.0\n",
       "838  13:58:00   3.0 1900-01-01 13:58:00  838.0\n",
       "845  14:05:00   3.1 1900-01-01 14:05:00  845.0\n",
       "846  14:06:00   3.2 1900-01-01 14:06:00  846.0\n",
       "884  14:44:00   3.0 1900-01-01 14:44:00  884.0"
      ]
     },
     "execution_count": 106,
     "metadata": {},
     "output_type": "execute_result"
    }
   ],
   "source": [
    "df.loc[df.Mets >= 3]"
   ]
  },
  {
   "cell_type": "code",
   "execution_count": 108,
   "metadata": {},
   "outputs": [
    {
     "data": {
      "text/plain": [
       "False"
      ]
     },
     "execution_count": 108,
     "metadata": {},
     "output_type": "execute_result"
    }
   ],
   "source": [
    "(df.loc[df.Mets >= 3].iat[6,2] - df.loc[df.Mets >= 3].iat[5,2]).seconds > 60"
   ]
  },
  {
   "cell_type": "markdown",
   "metadata": {},
   "source": [
    "In the above case, the person has had one consecutive MVPA minutes (i.e. 2 minutes) but otherwise they were all less than 9 minutes therefore these 8 minutes were all SB MVPA. The index number 845 and 846 indicates that time 845 and 846 were consecutive MVPA values."
   ]
  },
  {
   "cell_type": "markdown",
   "metadata": {},
   "source": [
    "We are going to use the `itertools` package `groupby` class to sort rows into consecutive times. First let's just convert the times into pure numbers so it's easier for us to count using the `itertools`"
   ]
  },
  {
   "cell_type": "code",
   "execution_count": 129,
   "metadata": {},
   "outputs": [],
   "source": [
    "from itertools import groupby, accumulate\n",
    "from operator import itemgetter, mul\n",
    "import operator"
   ]
  },
  {
   "cell_type": "code",
   "execution_count": 189,
   "metadata": {},
   "outputs": [
    {
     "data": {
      "text/plain": [
       "14"
      ]
     },
     "execution_count": 189,
     "metadata": {},
     "output_type": "execute_result"
    }
   ],
   "source": [
    "len(data)"
   ]
  },
  {
   "cell_type": "code",
   "execution_count": 190,
   "metadata": {},
   "outputs": [
    {
     "name": "stdout",
     "output_type": "stream",
     "text": [
      "1\n",
      "1\n",
      "1\n",
      "1\n",
      "1\n",
      "2\n",
      "1\n"
     ]
    }
   ],
   "source": [
    "for k, g in groupby(enumerate(df.loc[df.Mets >= 3].Time3.tolist()), lambda i: i[0] - i[1]):\n",
    "    print(len(list(map(itemgetter(1), g))))"
   ]
  },
  {
   "cell_type": "code",
   "execution_count": 218,
   "metadata": {},
   "outputs": [],
   "source": [
    "for key, group in groupby(enumerate(data), lambda i: i[0] - i[1]):\n",
    "    group = list(map(itemgetter(1), group))\n",
    "    ranges.append((group[-1]-group[0]))"
   ]
  },
  {
   "cell_type": "markdown",
   "metadata": {},
   "source": [
    "The above code prints the list of consecutive times of MVPA. Now we will just create a function that will take a list and output a list of two values. The two values will be the sum of consecutive Long-bout and Short-bout MVPA times. For someone who had a MVPA value of >= 10 for two minute should have a value of 2 for the LB_MVPA value while if that same person had 20 minutes of MVPA values < 10, then that person should have a SB_MVPA value of 20 therefore the list would look like `[2, 20]` or some form that has two values."
   ]
  },
  {
   "cell_type": "code",
   "execution_count": 232,
   "metadata": {},
   "outputs": [],
   "source": [
    "def mvpa_sblb(list_data):\n",
    "    \"\"\"\n",
    "    The input should be a list!\n",
    "    This function returns a list of 2 values. 1 value is the number of short-bout MVPA \n",
    "    The other is the number of long-bout MVPA. \n",
    "    \"\"\"\n",
    "    \n",
    "    #  first create empty list that will be our output \n",
    "    ranges = []\n",
    "\n",
    "    # we need to iterate through the list. This for loop below will create a \n",
    "    # list of values that indicate the consecutive MVPA minutes. \n",
    "    # Therefore a number 2 in the list will indicate that\n",
    "    # The participant had 2 minutes of consecutive time during the day(or week).\n",
    "    # many thanks to https://stackoverflow.com/questions/2154249/identify-groups-of-continuous-numbers-in-a-list\n",
    "    \n",
    "    for key, group in groupby(enumerate(list_data), lambda i: i[0] - i[1]):\n",
    "        group = list(map(itemgetter(1), group))\n",
    "        ranges.append((group[-1]-group[0]))\n",
    "        \n",
    "    # Now we need to check the list and sum the values that are > 9 and that forms the value for\n",
    "    # lb_mvpa. If values are <= 9 then they sum to be the value for sb_mvpa\n",
    "    sb_list = []\n",
    "    lb_list = []\n",
    "    for i in ranges:\n",
    "        if ( i >= 10 ):\n",
    "            lb_list.append((i))\n",
    "        else:\n",
    "            sb_list.append((i))\n",
    "    \n",
    "    # sum the values in each list and return list\n",
    "    finlist = {\"SB\": sum(sb_list), \n",
    "               \"LB\":sum(lb_list)}\n",
    "    \n",
    "    return(finlist)"
   ]
  },
  {
   "cell_type": "code",
   "execution_count": 233,
   "metadata": {},
   "outputs": [
    {
     "data": {
      "text/plain": [
       "{'LB': 0, 'SB': 8}"
      ]
     },
     "execution_count": 233,
     "metadata": {},
     "output_type": "execute_result"
    }
   ],
   "source": [
    "mvpa_sblb(data)"
   ]
  }
 ],
 "metadata": {
  "kernelspec": {
   "display_name": "Python 3",
   "language": "python",
   "name": "python3"
  },
  "language_info": {
   "codemirror_mode": {
    "name": "ipython",
    "version": 3
   },
   "file_extension": ".py",
   "mimetype": "text/x-python",
   "name": "python",
   "nbconvert_exporter": "python",
   "pygments_lexer": "ipython3",
   "version": "3.6.3"
  }
 },
 "nbformat": 4,
 "nbformat_minor": 2
}
